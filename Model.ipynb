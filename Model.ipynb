{
 "cells": [
  {
   "cell_type": "code",
   "execution_count": 2,
   "metadata": {},
   "outputs": [],
   "source": [
    "import pandas as pd\n",
    "from sklearn.preprocessing import  StandardScaler, MinMaxScaler\n",
    "import seaborn as sns\n",
    "import numpy as np\n",
    "\n",
    "from sklearn.ensemble import RandomForestClassifier\n",
    "import lightgbm as lgb\n",
    "import xgboost as xgb\n",
    "\n",
    "from sklearn.model_selection import train_test_split, cross_val_score, GridSearchCV, StratifiedKFold\n",
    "from sklearn.feature_selection import RFECV\n",
    "from sklearn.metrics import roc_auc_score"
   ]
  },
  {
   "cell_type": "code",
   "execution_count": 3,
   "metadata": {},
   "outputs": [],
   "source": [
    "dataset=pd.read_csv('Cleaned_Dataset.csv', sep=',')\n",
    "train=pd.read_csv('train.csv', sep=',')\n",
    "test=pd.read_csv('test.csv', sep=',')\n",
    "train_index=train.index\n",
    "y=dataset['is_pass'].values[:len(train_index)]\n",
    "X=dataset.drop(['is_pass'], axis=1).values[:len(train_index),:]"
   ]
  },
  {
   "cell_type": "code",
   "execution_count": 3,
   "metadata": {},
   "outputs": [
    {
     "data": {
      "text/plain": [
       "array([[1.        , 0.80213904, 0.4671344 , ..., 1.        , 0.18388252,\n",
       "        0.        ],\n",
       "       [0.73684211, 0.23529412, 0.82211275, ..., 1.        , 0.2257347 ,\n",
       "        0.        ],\n",
       "       [0.15789474, 0.95187166, 0.69592476, ..., 1.        , 0.51869995,\n",
       "        1.        ],\n",
       "       ...,\n",
       "       [0.15789474, 0.75935829, 0.64994775, ..., 1.        , 0.34772959,\n",
       "        0.        ],\n",
       "       [0.73684211, 0.43850267, 0.28193263, ..., 0.        , 0.24666079,\n",
       "        0.        ],\n",
       "       [0.21052632, 0.63636364, 0.22222222, ..., 0.        , 0.33036515,\n",
       "        0.        ]])"
      ]
     },
     "execution_count": 3,
     "metadata": {},
     "output_type": "execute_result"
    }
   ],
   "source": [
    "dataset_rf=dataset.drop(['is_4','program_range','difficulty_level','rating_given','U_1','S_2','S_1','V_1', 'V_2','U_2','S','V_3','V_4','T_1','T_2','T_3','T_4','X_1','X_2','X_3','Z_1','Z_2','Z_3','Y_1','Y_2','Y_3','Y_4','T', 'U','V','X','Y','Z','age_given','first_attempt','total_programs_enrolled'], axis=1)\n",
    "y_rf=dataset_rf['is_pass'].values[:len(train_index)]\n",
    "X_rf=dataset_rf.drop(['is_pass'], axis=1).values[:len(train_index),:]\n",
    "sc=MinMaxScaler(feature_range=(0,1))\n",
    "sc.fit_transform(X_rf)"
   ]
  },
  {
   "cell_type": "code",
   "execution_count": 4,
   "metadata": {},
   "outputs": [
    {
     "data": {
      "text/plain": [
       "RandomForestClassifier(bootstrap=True, class_weight='balanced',\n",
       "            criterion='gini', max_depth=None, max_features=None,\n",
       "            max_leaf_nodes=None, min_impurity_decrease=0.0,\n",
       "            min_impurity_split=None, min_samples_leaf=1,\n",
       "            min_samples_split=2, min_weight_fraction_leaf=0.0,\n",
       "            n_estimators=1000, n_jobs=1, oob_score=False, random_state=0,\n",
       "            verbose=0, warm_start=False)"
      ]
     },
     "execution_count": 4,
     "metadata": {},
     "output_type": "execute_result"
    }
   ],
   "source": [
    "rf=RandomForestClassifier(n_estimators=1000, criterion='gini', max_depth=None, max_features=None, warm_start=False, oob_score=False, class_weight='balanced', random_state=0)\n",
    "rf.fit(X_rf, y_rf)"
   ]
  },
  {
   "cell_type": "code",
   "execution_count": 5,
   "metadata": {},
   "outputs": [
    {
     "name": "stdout",
     "output_type": "stream",
     "text": [
      "1.0\n"
     ]
    }
   ],
   "source": [
    "print(roc_auc_score(y_rf, rf.predict_proba(X_rf)[:,1:]))"
   ]
  },
  {
   "cell_type": "code",
   "execution_count": 6,
   "metadata": {},
   "outputs": [
    {
     "data": {
      "text/plain": [
       "array([[1.        , 0.80213904, 0.4671344 , ..., 1.        , 1.        ,\n",
       "        0.18388252],\n",
       "       [0.73684211, 0.23529412, 0.82211275, ..., 0.        , 1.        ,\n",
       "        0.2257347 ],\n",
       "       [0.15789474, 0.95187166, 0.69592476, ..., 1.        , 1.        ,\n",
       "        0.51869995],\n",
       "       ...,\n",
       "       [0.15789474, 0.75935829, 0.64994775, ..., 1.        , 1.        ,\n",
       "        0.34772959],\n",
       "       [0.73684211, 0.43850267, 0.28193263, ..., 0.        , 0.        ,\n",
       "        0.24666079],\n",
       "       [0.21052632, 0.63636364, 0.22222222, ..., 1.        , 0.        ,\n",
       "        0.33036515]])"
      ]
     },
     "execution_count": 6,
     "metadata": {},
     "output_type": "execute_result"
    }
   ],
   "source": [
    "dataset_lgbm=dataset.drop(['is_4','program_range','difficulty_level','rating_given','U_1','S_2','S_1','V_1', 'V_2','U_2','S','V_3','V_4','T_1','T_2','T_3','T_4','X_1','X_2','X_3','Z_1','Z_2','Z_3','Y_1','Y_2','Y_3','Y_4','T', 'U','V','X','Y','Z','age_given','first_attempt','total_programs_enrolled','age_40'], axis=1)\n",
    "y_lgbm=dataset_lgbm['is_pass'].values[:len(train_index)]\n",
    "X_lgbm=dataset_lgbm.drop(['is_pass'], axis=1).values[:len(train_index),:]\n",
    "sc=MinMaxScaler(feature_range=(0,1))\n",
    "sc.fit_transform(X_lgbm)"
   ]
  },
  {
   "cell_type": "code",
   "execution_count": 7,
   "metadata": {},
   "outputs": [],
   "source": [
    "train_data = lgb.Dataset(X_lgbm, label=y_lgbm)"
   ]
  },
  {
   "cell_type": "code",
   "execution_count": 8,
   "metadata": {},
   "outputs": [],
   "source": [
    "parameters = {\n",
    "    'objective': 'binary',\n",
    "    'metric': 'auc',\n",
    "    'is_unbalance': 'false',\n",
    "    'boosting': 'gbdt',\n",
    "    'verbose': 1,\n",
    "    'learning_rate': 0.04,\n",
    "    'n_estimators':600,\n",
    "    'num_leaves': 1200,\n",
    "    'random_state': 0,\n",
    "    'colsample_bytree':0.4,\n",
    "    'lambda':1.7,\n",
    "    'min_data_in_leaf':10\n",
    "    \n",
    "}"
   ]
  },
  {
   "cell_type": "code",
   "execution_count": 9,
   "metadata": {},
   "outputs": [
    {
     "name": "stderr",
     "output_type": "stream",
     "text": [
      "c:\\users\\anirudh prakash\\appdata\\local\\programs\\python\\python35\\lib\\site-packages\\lightgbm\\engine.py:99: UserWarning: Found `n_estimators` in params. Will use it instead of argument\n",
      "  warnings.warn(\"Found `{}` in params. Will use it instead of argument\".format(alias))\n"
     ]
    }
   ],
   "source": [
    "model = lgb.train(parameters,\n",
    "                       train_data,\n",
    "                       num_boost_round=1000\n",
    "                        )"
   ]
  },
  {
   "cell_type": "code",
   "execution_count": 10,
   "metadata": {},
   "outputs": [
    {
     "data": {
      "image/png": "[encoded data removed]",
      "text/plain": [
       "<Figure size 1440x720 with 1 Axes>"
      ]
     },
     "metadata": {},
     "output_type": "display_data"
    }
   ],
   "source": [
    "from matplotlib import pyplot\n",
    "pyplot.figure(figsize=(20,10))\n",
    "pyplot.bar(range(len(model.feature_importance())), model.feature_importance())\n",
    "pyplot.xticks(range(len(model.feature_importance())))\n",
    "pyplot.show()"
   ]
  },
  {
   "cell_type": "code",
   "execution_count": 11,
   "metadata": {},
   "outputs": [
    {
     "data": {
      "text/plain": [
       "array([[1.        , 0.80213904, 0.4671344 , ..., 1.        , 0.18388252,\n",
       "        0.        ],\n",
       "       [0.73684211, 0.23529412, 0.82211275, ..., 1.        , 0.2257347 ,\n",
       "        0.        ],\n",
       "       [0.15789474, 0.95187166, 0.69592476, ..., 1.        , 0.51869995,\n",
       "        1.        ],\n",
       "       ...,\n",
       "       [0.15789474, 0.75935829, 0.64994775, ..., 1.        , 0.34772959,\n",
       "        0.        ],\n",
       "       [0.73684211, 0.43850267, 0.28193263, ..., 0.        , 0.24666079,\n",
       "        0.        ],\n",
       "       [0.21052632, 0.63636364, 0.22222222, ..., 0.        , 0.33036515,\n",
       "        0.        ]])"
      ]
     },
     "execution_count": 11,
     "metadata": {},
     "output_type": "execute_result"
    }
   ],
   "source": [
    "dataset_xgb=dataset.drop(['age_given','first_attempt','U_1','S_2','program_range','total_programs_enrolled','S_1', 'V_1','V_2','U_2','S','U','V_3','V_4','T_1', 'is_4', 'V', 'difficulty_level', 'rating_given','3'], axis=1) \n",
    "y_xgb=dataset_xgb['is_pass'].values[:len(train_index)]\n",
    "X_xgb=dataset_xgb.drop(['is_pass'], axis=1).values[:len(train_index),:]\n",
    "sc=MinMaxScaler(feature_range=(0,1))\n",
    "sc.fit_transform(X_xgb)"
   ]
  },
  {
   "cell_type": "code",
   "execution_count": 12,
   "metadata": {},
   "outputs": [],
   "source": [
    "dtrain = xgb.DMatrix(X_xgb, label=y_xgb)"
   ]
  },
  {
   "cell_type": "code",
   "execution_count": 13,
   "metadata": {},
   "outputs": [],
   "source": [
    "param = {\n",
    "    'max_depth': 60,  \n",
    "    'objective': 'binary:logistic', \n",
    "    'n_estimators': 600,\n",
    "    'eval_metric':'auc',\n",
    "    'gamma':4,\n",
    "    'colsample_bytree':0.35,\n",
    "    'n_thread':4,\n",
    "    'silent':0,\n",
    "    'eta':.1,\n",
    "    'lambda': 1.7,\n",
    "    'min_child_weight': 0.05,\n",
    "    'colsample_bylevel': 0.8\n",
    "        }  \n",
    "num_round = 500  "
   ]
  },
  {
   "cell_type": "code",
   "execution_count": 14,
   "metadata": {},
   "outputs": [],
   "source": [
    "bst = xgb.train(param, dtrain, num_round)"
   ]
  },
  {
   "cell_type": "code",
   "execution_count": 15,
   "metadata": {},
   "outputs": [
    {
     "name": "stdout",
     "output_type": "stream",
     "text": [
      "0.9524842458872663\n"
     ]
    }
   ],
   "source": [
    "from sklearn.metrics import roc_auc_score\n",
    "print(roc_auc_score(y_xgb, bst.predict(dtrain)))"
   ]
  },
  {
   "cell_type": "code",
   "execution_count": 16,
   "metadata": {},
   "outputs": [
    {
     "data": {
      "image/png": "[encoded data removed]",
      "text/plain": [
       "<Figure size 1440x720 with 1 Axes>"
      ]
     },
     "metadata": {},
     "output_type": "display_data"
    }
   ],
   "source": [
    "from matplotlib import pyplot\n",
    "pyplot.figure(figsize=(20,10))\n",
    "pyplot.bar(bst.get_score().keys(), bst.get_score().values())\n",
    "pyplot.xticks(range(len(bst.get_fscore())))\n",
    "pyplot.show()"
   ]
  },
  {
   "cell_type": "code",
   "execution_count": 17,
   "metadata": {},
   "outputs": [],
   "source": [
    "X_test_lgbm_final=dataset_lgbm.drop(['is_pass'], axis=1).values[len(train_index):,:]\n",
    "X_test_xgb_final=dataset_xgb.drop(['is_pass'], axis=1).values[len(train_index):,:]\n",
    "X_test_rf_final=dataset_rf.drop(['is_pass'], axis=1).values[len(train_index):,:]\n",
    "y_sample=dataset['is_pass'].values[len(train_index):]\n",
    "dfinal=xgb.DMatrix(X_test_xgb_final, label=y_sample)"
   ]
  },
  {
   "cell_type": "code",
   "execution_count": 18,
   "metadata": {},
   "outputs": [],
   "source": [
    "ensemble_test_final = pd.DataFrame()\n",
    "ensemble_test_final['lgb']=model.predict(X_test_lgbm_final)\n",
    "ensemble_test_final['xgb']=bst.predict(dfinal)\n",
    "ensemble_test_final['rf']=rf.predict_proba(X_test_rf_final)[:,1:]"
   ]
  },
  {
   "cell_type": "code",
   "execution_count": 19,
   "metadata": {},
   "outputs": [],
   "source": [
    "y_pred_final=.37*ensemble_test_final['xgb']+ .44*ensemble_test_final['lgb']+.19*ensemble_test_final['rf']\n",
    "Submission = pd.DataFrame({ 'id': test['id'],\n",
    "                            'is_pass':y_pred_final })\n",
    "Submission.to_csv(\"Submission.csv\", index=False)"
   ]
  }
 ],
 "metadata": {
  "kernelspec": {
   "display_name": "Python 3",
   "language": "python",
   "name": "python3"
  },
  "language_info": {
   "codemirror_mode": {
    "name": "ipython",
    "version": 3
   },
   "file_extension": ".py",
   "mimetype": "text/x-python",
   "name": "python",
   "nbconvert_exporter": "python",
   "pygments_lexer": "ipython3",
   "version": "3.5.0"
  }
 },
 "nbformat": 4,
 "nbformat_minor": 2
}
